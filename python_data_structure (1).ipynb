{
  "nbformat": 4,
  "nbformat_minor": 0,
  "metadata": {
    "colab": {
      "provenance": []
    },
    "kernelspec": {
      "name": "python3",
      "display_name": "Python 3"
    },
    "language_info": {
      "name": "python"
    }
  },
  "cells": [
    {
      "cell_type": "markdown",
      "source": [
        "#Q1  What are data structures, and why are they important?\n",
        "--> Data structures are specialized formats for organizing, storing, and accessing collections of data.They are used for storing, manageing and maupulating the data.\n",
        "________________________________________________________________________________\n",
        "#Q2  Explain the difference between mutable and immutable data types with examples?\n",
        "--> In mutable data types we can manipulate the data using some functions and in immutable data types we can not change or manipulate the data. for example list[ ] is mutable data types and tuple( ) is immutable data types.\n",
        "________________________________________________________________________________\n",
        "#Q3  What are the main differences between lists and tuples in Python?\n",
        "--> lists are mutable data types in python and tuples are immutable data types in python. Lists are stored in square bracktes [ ] and tuple sare stored in curve bracktes ( ). both can store homogeneus data types.\n",
        "________________________________________________________________________________\n",
        "#Q4  Describe how dictionaries store data ?\n",
        "--> dictionaries stores data in curley brackets and in key value pairs.\n",
        "for example = dict = {\"key\":\"value\"}\n",
        "________________________________________________________________________________\n",
        "#Q5  Why might you use a set instead of a list in Python?\n",
        "--> when we want only unique items that time we can use sets instead of list.\n",
        "stes can perform multiple operations like union , intersection, differnce.\n",
        "________________________________________________________________________________\n",
        "#Q6  What is a string in Python, and how is it different from a list?\n",
        "--> In python string is data structure or data type. It is different from list beacuse it is immutable and and stores only string data types.\n",
        "________________________________________________________________________________\n",
        "#Q7  How do tuples ensure data integrity in Python?\n",
        "--> Tuples ensure data integrity in Python mainly through immutability.\n",
        "________________________________________________________________________________\n",
        "#Q8  What is a hash table, and how does it relate to dictionaries in Python?\n",
        "--> A hash table is a data structure that stores key-value pairs, and allows for fast access, insertion, and deletion.In Python, the dict type is implemented using a hash table.\n",
        "________________________________________________________________________________\n",
        "#Q9  Can lists contain different data types in Python?\n",
        "--> yes list can contain different data types in python.\n",
        "________________________________________________________________________________\n",
        "#Q10  Explain why strings are immutable in Python?\n",
        "--> If strings could be changed, it might lead to bugs in code that shares the same string across different variables.Immutability ensures that once a string is created, it stays the same.\n",
        "________________________________________________________________________________\n",
        "#Q11  What advantages do dictionaries offer over lists for certain tasks?\n",
        "-->Dictionaries offer faster key-based lookups, use meaningful keys instead of numeric indexes, and better organize related data compared to lists.\n",
        "________________________________________________________________________________\n",
        "#Q12  Describe a scenario where using a tuple would be preferable over a list.\n",
        "--> When there is data that wont might be change then we us tuples to store that data. data like your adhar number , employee id etc.\n",
        "________________________________________________________________________________\n",
        "#Q13  How do sets handle duplicate values in Python?\n",
        "--> sets automatically remove duplicate values. When you add elements to a set, only unique values are stored.\n",
        "________________________________________________________________________________\n",
        "#Q14  How does the “in” keyword work differently for lists and dictionaries?\n",
        "--> In list 'in' operator checks the value is exist in list or not,and in dictionary 'in' operator checks the key is exist in dict or not.\n",
        "________________________________________________________________________________\n",
        "#Q15  Can you modify the elements of a tuple? Explain why or why not?\n",
        "--> no we can not modify the elements of a tuple because tuples are immutable.\n",
        "________________________________________________________________________________\n",
        "#Q16  What is a nested dictionary, and give an example of its use case?\n",
        "--> A nested dictionary is a another dictionary that conatains another dictionary as its values. ested dictionaries are useful when you want to store complex structured information.\n",
        "________________________________________________________________________________\n",
        "#Q17  Describe the time complexity of accessing elements in a dictionary.\n",
        "--> Accessing an element in a Python dictionary by key has O(1) average time complexity because dictionaries use hash tables for direct lookup.\n",
        "________________________________________________________________________________\n",
        "#Q18   In what situations are lists preferred over dictionaries?\n",
        "--> Lists are preferred over dictionaries when you need ordered collections, allow duplicate values, or primarily access elements by their position rather than by a key.\n",
        "________________________________________________________________________________\n",
        "#Q19  Why are dictionaries considered unordered, and how does that affect data retrieval?\n",
        "--> Dictionaries are considered unordered because they dont maintain elements in the order they were added. This affects data retrieval in that you cannot rely on key order and should always access values by key rather than by position.\n",
        "________________________________________________________________________________\n",
        "#Q20  Explain the difference between a list and a dictionary in terms of data retrieval.\n",
        "--> In list data is retrieved by index and in dictionary data is retrieved by the key.\n",
        "________________________________________________________________________________"
      ],
      "metadata": {
        "id": "4ZKbNoMnIniN"
      }
    },
    {
      "cell_type": "code",
      "source": [
        "#practical questions >>>\n",
        "\n",
        "#Q1 Write a code to create a string with your name and print it\n",
        "\n",
        "name = \"omkar\"\n",
        "print(f\"my name is {name}\")\n",
        "type(name)"
      ],
      "metadata": {
        "colab": {
          "base_uri": "https://localhost:8080/"
        },
        "id": "MkaySDHpW8cq",
        "outputId": "1888df46-7731-4135-e0d8-3d454c7fecc8"
      },
      "execution_count": 136,
      "outputs": [
        {
          "output_type": "stream",
          "name": "stdout",
          "text": [
            "my name is omkar\n"
          ]
        },
        {
          "output_type": "execute_result",
          "data": {
            "text/plain": [
              "str"
            ]
          },
          "metadata": {},
          "execution_count": 136
        }
      ]
    },
    {
      "cell_type": "code",
      "source": [
        "#Q2 Write a code to find the length of the string \"Hello World\"\n",
        "s = \"hello world\"\n",
        "len(s)"
      ],
      "metadata": {
        "colab": {
          "base_uri": "https://localhost:8080/"
        },
        "id": "sTyRmB8KrVfP",
        "outputId": "8f48a1c9-fa95-424c-c87a-d040cb6dc742"
      },
      "execution_count": 137,
      "outputs": [
        {
          "output_type": "execute_result",
          "data": {
            "text/plain": [
              "11"
            ]
          },
          "metadata": {},
          "execution_count": 137
        }
      ]
    },
    {
      "cell_type": "code",
      "source": [
        "#Q3 Write a code to slice the first 3 characters from the string \"Python Programming\n",
        "p = \"python programing\"\n",
        "p[0:3]"
      ],
      "metadata": {
        "colab": {
          "base_uri": "https://localhost:8080/",
          "height": 36
        },
        "id": "oK6L7NOnrw--",
        "outputId": "8c697e1d-4d5a-409a-846c-1bd60eb026f2"
      },
      "execution_count": 138,
      "outputs": [
        {
          "output_type": "execute_result",
          "data": {
            "text/plain": [
              "'pyt'"
            ],
            "application/vnd.google.colaboratory.intrinsic+json": {
              "type": "string"
            }
          },
          "metadata": {},
          "execution_count": 138
        }
      ]
    },
    {
      "cell_type": "code",
      "source": [
        "#Q4 Write a code to convert the string \"hello\" to uppercase\n",
        "h = \"hello\"\n",
        "h.upper()"
      ],
      "metadata": {
        "colab": {
          "base_uri": "https://localhost:8080/",
          "height": 36
        },
        "id": "TYs1ht0xsJUn",
        "outputId": "ad21a223-2446-4cc8-b780-6e1a8d09f71b"
      },
      "execution_count": 139,
      "outputs": [
        {
          "output_type": "execute_result",
          "data": {
            "text/plain": [
              "'HELLO'"
            ],
            "application/vnd.google.colaboratory.intrinsic+json": {
              "type": "string"
            }
          },
          "metadata": {},
          "execution_count": 139
        }
      ]
    },
    {
      "cell_type": "code",
      "source": [
        "#Q5 Write a code to replace the word \"apple\" with \"orange\" in the string \"I like apple\"\n",
        "a = \"i like apple\"\n",
        "b = a.replace(\"apple\", \"orange\")\n",
        "print(b)"
      ],
      "metadata": {
        "colab": {
          "base_uri": "https://localhost:8080/"
        },
        "id": "FZaeseVIsZnA",
        "outputId": "ace17d5f-1507-4d1e-d29b-41484ef9ed49"
      },
      "execution_count": 140,
      "outputs": [
        {
          "output_type": "stream",
          "name": "stdout",
          "text": [
            "i like orange\n"
          ]
        }
      ]
    },
    {
      "cell_type": "code",
      "source": [
        "#Q6 Write a code to create a list with numbers 1 to 5 and print it\n",
        "my_list =[1,2,3,4,5]\n",
        "my_list\n"
      ],
      "metadata": {
        "colab": {
          "base_uri": "https://localhost:8080/"
        },
        "id": "4B5MealUtotm",
        "outputId": "901fac6c-4089-4b2a-d34e-ea913a682992"
      },
      "execution_count": 141,
      "outputs": [
        {
          "output_type": "execute_result",
          "data": {
            "text/plain": [
              "[1, 2, 3, 4, 5]"
            ]
          },
          "metadata": {},
          "execution_count": 141
        }
      ]
    },
    {
      "cell_type": "code",
      "source": [
        "#Q7 Write a code to append the number 10 to the list [1, 2, 3, 4]\n",
        "my_list = [1,2,3,4]\n",
        "my_list.append(10)\n",
        "my_list"
      ],
      "metadata": {
        "colab": {
          "base_uri": "https://localhost:8080/"
        },
        "id": "lwH3nIXHvLPK",
        "outputId": "7e94cbfc-7cea-4989-9221-6be0fb49fe83"
      },
      "execution_count": 142,
      "outputs": [
        {
          "output_type": "execute_result",
          "data": {
            "text/plain": [
              "[1, 2, 3, 4, 10]"
            ]
          },
          "metadata": {},
          "execution_count": 142
        }
      ]
    },
    {
      "cell_type": "code",
      "source": [
        "#Q8 Write a code to remove the number 3 from the list [1, 2, 3, 4, 5]\n",
        "my_list = [1,2,3,4,5]\n",
        "my_list.remove(3)\n",
        "my_list"
      ],
      "metadata": {
        "colab": {
          "base_uri": "https://localhost:8080/"
        },
        "id": "KVbDILZTvlJK",
        "outputId": "42116091-5f63-4f85-ffa0-e2a543e3fae6"
      },
      "execution_count": 143,
      "outputs": [
        {
          "output_type": "execute_result",
          "data": {
            "text/plain": [
              "[1, 2, 4, 5]"
            ]
          },
          "metadata": {},
          "execution_count": 143
        }
      ]
    },
    {
      "cell_type": "code",
      "source": [
        "#Q9 Write a code to access the second element in the list ['a', 'b', 'c', 'd']\n",
        "my_list = [\"a\",\"b\",\"c\",\"d\"]\n",
        "my_list[1]"
      ],
      "metadata": {
        "colab": {
          "base_uri": "https://localhost:8080/",
          "height": 36
        },
        "id": "Hs-GGtAQx47L",
        "outputId": "ed5b13bd-e553-496c-b271-a1a2b04db0dc"
      },
      "execution_count": 144,
      "outputs": [
        {
          "output_type": "execute_result",
          "data": {
            "text/plain": [
              "'b'"
            ],
            "application/vnd.google.colaboratory.intrinsic+json": {
              "type": "string"
            }
          },
          "metadata": {},
          "execution_count": 144
        }
      ]
    },
    {
      "cell_type": "code",
      "source": [
        "#Q10 Write a code to reverse the list [10, 20, 30, 40, 50].\n",
        "my_list =[10,20,30,40,50]\n",
        "my_list[::-1]"
      ],
      "metadata": {
        "colab": {
          "base_uri": "https://localhost:8080/"
        },
        "id": "mUGbQzhWyYxL",
        "outputId": "fb6db515-a8fb-4fa1-88ec-0eaecc3b130c"
      },
      "execution_count": 145,
      "outputs": [
        {
          "output_type": "execute_result",
          "data": {
            "text/plain": [
              "[50, 40, 30, 20, 10]"
            ]
          },
          "metadata": {},
          "execution_count": 145
        }
      ]
    },
    {
      "cell_type": "code",
      "source": [
        "#Q11 Write a code to create a tuple with the elements 100, 200, 300 and print it\n",
        "t = (100,200,300)\n",
        "print(t)\n",
        "type(t)\n"
      ],
      "metadata": {
        "colab": {
          "base_uri": "https://localhost:8080/"
        },
        "id": "PhhvF1t1yuek",
        "outputId": "edad1238-ea73-4351-d2a2-29bb442ea68f"
      },
      "execution_count": 146,
      "outputs": [
        {
          "output_type": "stream",
          "name": "stdout",
          "text": [
            "(100, 200, 300)\n"
          ]
        },
        {
          "output_type": "execute_result",
          "data": {
            "text/plain": [
              "tuple"
            ]
          },
          "metadata": {},
          "execution_count": 146
        }
      ]
    },
    {
      "cell_type": "code",
      "source": [
        "#Q12 Write a code to access the second-to-last element of the tuple ('red', 'green', 'blue', 'yellow').\n",
        "t = (\"red\",\"green\",\"blue\",\"yellow\")\n",
        "t[1:]"
      ],
      "metadata": {
        "colab": {
          "base_uri": "https://localhost:8080/"
        },
        "id": "1GQl1XfvzILf",
        "outputId": "50b2a2c7-172d-4bb6-9b7b-3517c4923196"
      },
      "execution_count": 147,
      "outputs": [
        {
          "output_type": "execute_result",
          "data": {
            "text/plain": [
              "('green', 'blue', 'yellow')"
            ]
          },
          "metadata": {},
          "execution_count": 147
        }
      ]
    },
    {
      "cell_type": "code",
      "source": [
        "#Q13 Write a code to find the minimum number in the tuple (10, 20, 5, 15).\n",
        "t =  (10, 20, 5, 15)\n",
        "min(t)"
      ],
      "metadata": {
        "colab": {
          "base_uri": "https://localhost:8080/"
        },
        "id": "yonxSRAxzzak",
        "outputId": "37849bbc-ed61-416c-bf04-60273e064878"
      },
      "execution_count": 148,
      "outputs": [
        {
          "output_type": "execute_result",
          "data": {
            "text/plain": [
              "5"
            ]
          },
          "metadata": {},
          "execution_count": 148
        }
      ]
    },
    {
      "cell_type": "code",
      "source": [
        "#Q14 Write a code to find the index of the element \"cat\" in the tuple ('dog', 'cat', 'rabbit')\n",
        "t = (\"dog\",\"cat\",\"rabbit\")\n",
        "t.index(\"cat\")\n"
      ],
      "metadata": {
        "colab": {
          "base_uri": "https://localhost:8080/"
        },
        "id": "5_YHN1C90A8q",
        "outputId": "55ab97de-d12d-4d2b-dd6c-1af5c0f78986"
      },
      "execution_count": 149,
      "outputs": [
        {
          "output_type": "execute_result",
          "data": {
            "text/plain": [
              "1"
            ]
          },
          "metadata": {},
          "execution_count": 149
        }
      ]
    },
    {
      "cell_type": "code",
      "source": [
        "#Q15 Write a code to create a tuple containing three different fruits and check if \"kiwi\" is in it.\n",
        "fruits = (\"mango\",\"orange\",\"banana\")\n",
        "print(\"kiwi\" in fruits)"
      ],
      "metadata": {
        "colab": {
          "base_uri": "https://localhost:8080/"
        },
        "id": "Kw779RWt0vY3",
        "outputId": "7f8e8b67-c171-4b72-fe5d-b653f7ff9cff"
      },
      "execution_count": 150,
      "outputs": [
        {
          "output_type": "stream",
          "name": "stdout",
          "text": [
            "False\n"
          ]
        }
      ]
    },
    {
      "cell_type": "code",
      "source": [
        "#Q16 Write a code to create a set with the elements 'a', 'b', 'c' and print it.\n",
        "s ={'a','b','c'}\n",
        "print(s)\n",
        "type(s)\n",
        "\n"
      ],
      "metadata": {
        "colab": {
          "base_uri": "https://localhost:8080/"
        },
        "id": "H2kR34O01JUN",
        "outputId": "6f38306b-86bc-4fca-bffb-1f49cfff06ab"
      },
      "execution_count": 151,
      "outputs": [
        {
          "output_type": "stream",
          "name": "stdout",
          "text": [
            "{'b', 'a', 'c'}\n"
          ]
        },
        {
          "output_type": "execute_result",
          "data": {
            "text/plain": [
              "set"
            ]
          },
          "metadata": {},
          "execution_count": 151
        }
      ]
    },
    {
      "cell_type": "code",
      "source": [
        "#Q17 Write a code to clear all elements from the set {1, 2, 3, 4, 5}.\n",
        "set1={1,2,3,4,5}\n",
        "set1.clear()\n",
        "print(set1)"
      ],
      "metadata": {
        "colab": {
          "base_uri": "https://localhost:8080/"
        },
        "id": "Z1ZkAPYe1z2C",
        "outputId": "3db61338-834f-4cf6-d02e-e15f230d5815"
      },
      "execution_count": 152,
      "outputs": [
        {
          "output_type": "stream",
          "name": "stdout",
          "text": [
            "set()\n"
          ]
        }
      ]
    },
    {
      "cell_type": "code",
      "source": [
        "#Q18 Write a code to remove the element 4 from the set {1, 2, 3, 4}\n",
        "set1 ={1,2,3,4,}\n",
        "set1.remove(4)\n",
        "set1"
      ],
      "metadata": {
        "colab": {
          "base_uri": "https://localhost:8080/"
        },
        "id": "1gk0PbMX2ELk",
        "outputId": "0a201bdf-0401-4ebd-b36f-de3fc64b37da"
      },
      "execution_count": 153,
      "outputs": [
        {
          "output_type": "execute_result",
          "data": {
            "text/plain": [
              "{1, 2, 3}"
            ]
          },
          "metadata": {},
          "execution_count": 153
        }
      ]
    },
    {
      "cell_type": "code",
      "source": [
        "#Q19 Write a code to find the union of two sets {1, 2, 3} and {3, 4, 5}.\n",
        "set1 ={1,2,3}\n",
        "set2 ={3,4,5}\n",
        "set1 | set2"
      ],
      "metadata": {
        "colab": {
          "base_uri": "https://localhost:8080/"
        },
        "id": "9E165NSy2iZi",
        "outputId": "77b3562f-544a-4d90-dbf2-9a3c4deadb4f"
      },
      "execution_count": 154,
      "outputs": [
        {
          "output_type": "execute_result",
          "data": {
            "text/plain": [
              "{1, 2, 3, 4, 5}"
            ]
          },
          "metadata": {},
          "execution_count": 154
        }
      ]
    },
    {
      "cell_type": "code",
      "source": [
        "#Q20 Write a code to find the intersection of two sets {1, 2, 3} and {2, 3, 4}.\n",
        "set1={1,2,3}\n",
        "set2={2,3,4}\n",
        "set1 & set2"
      ],
      "metadata": {
        "colab": {
          "base_uri": "https://localhost:8080/"
        },
        "id": "hs7GMiwJ20-Z",
        "outputId": "9e1f0be2-aac3-4c73-80cb-596b5a8951dd"
      },
      "execution_count": 155,
      "outputs": [
        {
          "output_type": "execute_result",
          "data": {
            "text/plain": [
              "{2, 3}"
            ]
          },
          "metadata": {},
          "execution_count": 155
        }
      ]
    },
    {
      "cell_type": "code",
      "source": [
        "#Q21 Write a code to create a dictionary with the keys \"name\", \"age\", and \"city\", and print it.\n",
        "d= {\"name\":\"omkar\",\"age\":21,\"city\":\"nashik\"}\n",
        "print(d)\n",
        "type(d)"
      ],
      "metadata": {
        "colab": {
          "base_uri": "https://localhost:8080/"
        },
        "id": "iAQjH6l43Unh",
        "outputId": "1c7c06ce-8459-4f93-dfdd-e3f975ca6760"
      },
      "execution_count": 156,
      "outputs": [
        {
          "output_type": "stream",
          "name": "stdout",
          "text": [
            "{'name': 'omkar', 'age': 21, 'city': 'nashik'}\n"
          ]
        },
        {
          "output_type": "execute_result",
          "data": {
            "text/plain": [
              "dict"
            ]
          },
          "metadata": {},
          "execution_count": 156
        }
      ]
    },
    {
      "cell_type": "code",
      "source": [
        "#Q22 Write a code to add a new key-value pair \"country\": \"USA\" to the dictionary {'name': 'John', 'age': 25}.\n",
        "d= {'name': 'John', 'age': 25}\n",
        "d[\"country\"]=\"usa\"\n",
        "d"
      ],
      "metadata": {
        "colab": {
          "base_uri": "https://localhost:8080/"
        },
        "id": "Vj51RICf33Za",
        "outputId": "70603d34-1d8e-4832-e31c-df5ade21e8db"
      },
      "execution_count": 157,
      "outputs": [
        {
          "output_type": "execute_result",
          "data": {
            "text/plain": [
              "{'name': 'John', 'age': 25, 'country': 'usa'}"
            ]
          },
          "metadata": {},
          "execution_count": 157
        }
      ]
    },
    {
      "cell_type": "code",
      "source": [
        "#Q23 Write a code to access the value associated with the key \"name\" in the dictionary {'name': 'Alice', 'age': 30}.\n",
        "d={'name': 'Alice', 'age': 30}\n",
        "d[\"name\"]"
      ],
      "metadata": {
        "colab": {
          "base_uri": "https://localhost:8080/",
          "height": 36
        },
        "id": "kdMhrR4u4WIN",
        "outputId": "c0aeb8cb-0467-428e-e65e-24ec86c6744c"
      },
      "execution_count": 158,
      "outputs": [
        {
          "output_type": "execute_result",
          "data": {
            "text/plain": [
              "'Alice'"
            ],
            "application/vnd.google.colaboratory.intrinsic+json": {
              "type": "string"
            }
          },
          "metadata": {},
          "execution_count": 158
        }
      ]
    },
    {
      "cell_type": "code",
      "source": [
        "#Q24 Write a code to remove the key \"age\" from the dictionary {'name': 'Bob', 'age': 22, 'city': 'New York'}.\n",
        "d = {'name': 'Bob', 'age': 22, 'city': 'New York'}\n",
        "d.pop(\"age\")\n",
        "d\n"
      ],
      "metadata": {
        "colab": {
          "base_uri": "https://localhost:8080/"
        },
        "id": "EMafG0Su4n8H",
        "outputId": "a6c5c638-a399-45ce-ef35-61d36f4dfdd5"
      },
      "execution_count": 159,
      "outputs": [
        {
          "output_type": "execute_result",
          "data": {
            "text/plain": [
              "{'name': 'Bob', 'city': 'New York'}"
            ]
          },
          "metadata": {},
          "execution_count": 159
        }
      ]
    },
    {
      "cell_type": "code",
      "source": [
        "#Q25 Write a code to check if the key \"city\" exists in the dictionary {'name': 'Alice', 'city': 'Paris'}\n",
        "d = {'name': 'Alice', 'city': 'Paris'}\n",
        "\"city\" in d"
      ],
      "metadata": {
        "colab": {
          "base_uri": "https://localhost:8080/"
        },
        "id": "UfBwUGl34-lV",
        "outputId": "c65d969a-5b5d-4c35-bc7a-81c578c937aa"
      },
      "execution_count": 160,
      "outputs": [
        {
          "output_type": "execute_result",
          "data": {
            "text/plain": [
              "True"
            ]
          },
          "metadata": {},
          "execution_count": 160
        }
      ]
    },
    {
      "cell_type": "code",
      "source": [
        "#Q26 Write a code to create a list, a tuple, and a dictionary, and print them all.\n",
        "my_list=[1,2,3,4]\n",
        "my_tuple=(1,2,3,4)\n",
        "my_dict={\"name\":\"omkar\",\"age\":21,\"course\":\"data analytics\"}\n",
        "print(\"list=\",my_list)\n",
        "print(\"tuple=\",my_tuple)\n",
        "print(\"dictionary=\",my_dict)\n",
        "\n",
        "\n"
      ],
      "metadata": {
        "colab": {
          "base_uri": "https://localhost:8080/"
        },
        "id": "-pVclrCU5q_x",
        "outputId": "f8a93460-86a8-4bd0-e3d5-a58c5c79f913"
      },
      "execution_count": 161,
      "outputs": [
        {
          "output_type": "stream",
          "name": "stdout",
          "text": [
            "list= [1, 2, 3, 4]\n",
            "tuple= (1, 2, 3, 4)\n",
            "dictionary= {'name': 'omkar', 'age': 21, 'course': 'data analytics'}\n"
          ]
        }
      ]
    },
    {
      "cell_type": "code",
      "source": [
        "#Q27 Write a code to create a list of 5 random numbers between 1 and 100, sort it in ascending order, and print the result.(replaced)\n",
        "import random\n",
        "numbers = [random.randint(1, 100) for i in range(5)]\n",
        "numbers.sort()\n",
        "print(numbers)\n",
        "\n"
      ],
      "metadata": {
        "colab": {
          "base_uri": "https://localhost:8080/"
        },
        "id": "z7e4MO_t6pdK",
        "outputId": "4b592672-e7a8-4e26-8903-6e001d410f51"
      },
      "execution_count": 162,
      "outputs": [
        {
          "output_type": "stream",
          "name": "stdout",
          "text": [
            "[15, 17, 21, 63, 89]\n"
          ]
        }
      ]
    },
    {
      "cell_type": "code",
      "source": [
        "#Q28 Write a code to create a list with strings and print the element at the third index.\n",
        "my_list = [\"omkar\",\"pranav\",\"makrand\",\"vedant\"]\n",
        "my_list[3]"
      ],
      "metadata": {
        "colab": {
          "base_uri": "https://localhost:8080/",
          "height": 36
        },
        "id": "kQ4Dl9xO7lpK",
        "outputId": "5848b05c-973d-4368-fbff-ebc67f1d061e"
      },
      "execution_count": 163,
      "outputs": [
        {
          "output_type": "execute_result",
          "data": {
            "text/plain": [
              "'vedant'"
            ],
            "application/vnd.google.colaboratory.intrinsic+json": {
              "type": "string"
            }
          },
          "metadata": {},
          "execution_count": 163
        }
      ]
    },
    {
      "cell_type": "code",
      "source": [
        "#Q29 Write a code to combine two dictionaries into one and print the result.\n",
        "dict1={\"name\":\"omkar\",\"age\":21,\"city\":\"nashik\"}\n",
        "dict2={\"course\":\"data analytics\",\"subject\":\"python\"}\n",
        "dict1.update (dict2)\n",
        "dict1"
      ],
      "metadata": {
        "colab": {
          "base_uri": "https://localhost:8080/"
        },
        "id": "xawCIjQS8M63",
        "outputId": "4fe8016d-1df8-4cd4-a2fc-134adc13e7ae"
      },
      "execution_count": 164,
      "outputs": [
        {
          "output_type": "execute_result",
          "data": {
            "text/plain": [
              "{'name': 'omkar',\n",
              " 'age': 21,\n",
              " 'city': 'nashik',\n",
              " 'course': 'data analytics',\n",
              " 'subject': 'python'}"
            ]
          },
          "metadata": {},
          "execution_count": 164
        }
      ]
    },
    {
      "cell_type": "code",
      "source": [
        "#Q30 Write a code to convert a list of strings into a set.\n",
        "my_list = [\"apple\", \"banana\", \"apple\", \"cherry\"]\n",
        "my_set = set(my_list)\n",
        "print(my_set)"
      ],
      "metadata": {
        "colab": {
          "base_uri": "https://localhost:8080/"
        },
        "id": "W-zPrMyT9spl",
        "outputId": "353e9282-1058-4b99-dc09-2fc1585b0f4b"
      },
      "execution_count": 165,
      "outputs": [
        {
          "output_type": "stream",
          "name": "stdout",
          "text": [
            "{'banana', 'cherry', 'apple'}\n"
          ]
        }
      ]
    }
  ]
}